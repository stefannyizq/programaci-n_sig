{
 "cells": [
  {
   "cell_type": "markdown",
   "id": "34eaaa14",
   "metadata": {},
   "source": [
    "# Programming GIS – Spatial & Geometry Operations on Vector data\n",
    "**Course:** Programación SIG. Universidad Nacional de Colombia. Facultad de Ciencias Agrarias.  \n",
    "**Author:** Liliana Castillo Villamor  \n",
    "**Date:** 2025-05-19  \n"
   ]
  },
  {
   "cell_type": "markdown",
   "id": "53fc7997",
   "metadata": {},
   "source": [
    "## Objectives  \n",
    "* Introduce core **vector‑based spatial operations** available in Python.  \n",
    "* Apply these operations to Colombian municipal, agro‑environmental and climate datasets.  \n",
    "* Develop students’ ability to adapt and extend example code.  \n",
    "* Provide hands‑on practice through **“Now it’s your turn”** exercises.  \n"
   ]
  },
  {
   "cell_type": "markdown",
   "id": "af41fa08",
   "metadata": {},
   "source": [
    "## Prerequisites  \n",
    "This notebook willl use the following datasets\n",
    "\n",
    "| File | Description | CRS / key fields |\n",
    "|------|-------------|------------------|\n",
    "| `Catalogo_Estaciones_IDEAM.csv` | IDEAM meteorological‑station catalogue (lon, lat, alt) | WGS 84 |\n",
    "| `Evaluaciones_Agropecuarias_Municipales_EVA.csv` | Municipal agricultural production statistics | `COD_MPIO`, crop, area, production |\n",
    "| `precipitacion.csv` | Daily precipitation per station | Station ID, date, value |\n",
    "| `municipios_colombia.shp` | Colombian municipalities | EPSG 3116 (MAGNA‑Sirgas / Colombia Bogotá) |\n",
    "\n",
    "Activate the environment and launch **Jupyter Lab** before running the cells below.\n"
   ]
  },
  {
   "cell_type": "markdown",
   "id": "e40a971e",
   "metadata": {},
   "source": [
    "## 1  Introduction  \n",
    "Spatial operations allow us to ask *where* questions about our data: Which municipalities intersect a given buffer?  \n",
    "Which weather station is nearest to each crop‑growing area?  \n",
    "Geometry operations, by contrast, modify or derive new geometries – simplifying boundaries, buffering points, or rotating shapes.  \n",
    "\n",
    "We will follow and extend chapters 3 and 4 of **_Geocomputation with Python_** (pygeocompx), applying every concept to real Colombian datasets.\n"
   ]
  },
  {
   "cell_type": "markdown",
   "id": "865643e1",
   "metadata": {},
   "source": [
    "### Data used in this notebook  \n",
    "We combine four datasets:\n",
    "\n",
    "1. **Municipal boundaries** – official shapefile from DANE (see *MGN2018 Instructivo*).  \n",
    "2. **EVA** agricultural statistics – municipal‑level production for major crops.  \n",
    "3. **IDEAM stations** – catalogue with coordinates and basic metadata.  \n",
    "4. **Daily precipitation** – station‑day totals.\n",
    "\n",
    "These provide an agricultural–environmental case study for spatial analysis.\n"
   ]
  },
  {
   "cell_type": "markdown",
   "id": "355e757d-25d7-46b5-8edc-88fb1c3a7b55",
   "metadata": {},
   "source": [
    "## 2. Import Libraries"
   ]
  },
  {
   "cell_type": "code",
   "execution_count": null,
   "id": "e7dd91ff",
   "metadata": {},
   "outputs": [],
   "source": [
    "import geopandas as gpd\n",
    "import pandas as pd\n",
    "import matplotlib.pyplot as plt\n",
    "from shapely.geometry import Point\n",
    "import contextily as ctx\n",
    "import shapely\n",
    "\n",
    "plt.rcParams['figure.figsize'] = (10, 8)\n"
   ]
  },
  {
   "cell_type": "markdown",
   "id": "aa49810e-cdc0-4a37-969f-d8f6b12e21ce",
   "metadata": {},
   "source": [
    "## 3.Load & harmonise the data\n",
    "\n",
    "We import the three source files, tidy a few columns and\n",
    "ensure **every spatial layer** is projected to *MAGNA-SIRGAS Origen Nacional*\n",
    "(**EPSG 9377**).  \n",
    "The EVA table has no coordinates, but we rename its municipality code\n",
    "to `cod_mun` for consistency.\n"
   ]
  },
  {
   "cell_type": "code",
   "execution_count": null,
   "id": "fb0baab2",
   "metadata": {},
   "outputs": [],
   "source": [
    "# --- File paths  ---\n",
    "root_folder=r\"C:/Users/Liliana/OneDrive - Universidad Nacional de Colombia/1_Periodos_Asignaturas/Cursos_2025_1/Programacion SIG/Talleres\"\n",
    "root_folder=r\"/Users/macbook/Library/CloudStorage/OneDrive-UniversidadNacionaldeColombia/1_Periodos_Asignaturas/Cursos_2025_1/Programacion SIG/Talleres\"\n",
    "\n",
    "SHAPE_MUN = root_folder+'/municipios_colombia.shp'\n",
    "EVA_CSV   = root_folder+'/Evaluaciones_Agropecuarias_Municipales_EVA.csv'\n",
    "EST_CSV   = root_folder+'/Catalogo_Estaciones_IDEAM.csv'\n",
    "\n"
   ]
  },
  {
   "cell_type": "code",
   "execution_count": null,
   "id": "ca691b61-0c3c-4c8b-b761-fa78c446e8b0",
   "metadata": {},
   "outputs": [],
   "source": [
    "# Municipalities → GeoDataFrame \n",
    "gdf_mun = gpd.read_file(SHAPE_MUN).to_crs(epsg=9377)\n",
    "\n",
    "# EVA table, rename code column\n",
    "eva = (pd.read_csv(EVA_CSV)\n",
    "         .rename(columns={\"CÓD. MUN.\": \"cod_mun\"}))\n",
    "eva[\"CULTIVO\"] = eva[\"CULTIVO\"].astype(str)      # ensure string\n",
    "\n",
    "# IDEAM catalogue → GeoDataFrame (clean \"(lat, lon)\")\n",
    "df_est = pd.read_csv(EST_CSV)\n",
    "coords = (df_est[\"Ubicación\"]\n",
    "            .str.strip(\"()\")\n",
    "            .str.split(\",\", expand=True)\n",
    "            .astype(float))\n",
    "df_est[\"lat\"], df_est[\"lon\"] = coords[0], coords[1]\n",
    "\n",
    "gdf_est = gpd.GeoDataFrame(\n",
    "    df_est,\n",
    "    geometry=gpd.points_from_xy(df_est[\"lon\"], df_est[\"lat\"]),\n",
    "    crs=\"EPSG:4326\"\n",
    ").to_crs(epsg=9377)\n",
    "\n",
    "print(f\"{len(gdf_mun):,} municipalities • {len(gdf_est):,} stations • \"\n",
    "      f\"{len(eva):,} EVA rows\")\n",
    "\n",
    "\n",
    "#Homogenise municipalities codes\n",
    "gdf_mun[\"MPIO_CCDGO\"] = gdf_mun[\"MPIO_CCDGO\"].astype(str).str.zfill(5)\n",
    "eva[\"cod_mun\"]        = eva[\"cod_mun\"].astype(str).str.zfill(5)"
   ]
  },
  {
   "cell_type": "code",
   "execution_count": null,
   "id": "c1cd91cf-bf87-4165-a84f-42b7e533e854",
   "metadata": {},
   "outputs": [],
   "source": [
    "\n",
    "# ── Quick checks ───────────────────────────────────────────────────────────\n",
    "print(\"Head of re-projected station GeoDataFrame:\")\n",
    "display(gdf_est.head())\n",
    "print(\"gdf_mun columns\",gdf_mun.columns)\n",
    "ax = gdf_mun.plot(color=\"none\", edgecolor=\"grey\", figsize=(8, 8))\n",
    "gdf_est.plot(ax=ax, color=\"red\", markersize=6)\n",
    "plt.title(\"IDEAM stations (projected) over Colombian municipalities\")\n",
    "plt.show()"
   ]
  },
  {
   "cell_type": "code",
   "execution_count": null,
   "id": "674c3246-195e-496f-819c-0a0e78d1ab8e",
   "metadata": {},
   "outputs": [],
   "source": [
    "print(eva[\"CULTIVO\"].unique())\n",
    "print(eva.columns)"
   ]
  },
  {
   "cell_type": "markdown",
   "id": "6641e12e",
   "metadata": {},
   "source": [
    "## 4  Spatial operations on vector data"
   ]
  },
  {
   "cell_type": "markdown",
   "id": "c20b17e5",
   "metadata": {},
   "source": [
    "### 4.2.1  Spatial subsetting  \n",
    "*Spatial subsetting* returns a new layer that contains only the\n",
    "features with a defined spatial relationship to another layer."
   ]
  },
  {
   "cell_type": "markdown",
   "id": "ea2370ce-c50a-4f97-96cc-b31cdee14ed6",
   "metadata": {},
   "source": [
    "#### Identifying IDEAM stations within Bogotá D.C.\n",
    "\n",
    "* We first filter gdf_mun by the municipal name containing “BOGOTÁ”  and make an explicit copy to avoid modifying the original GeoDataFrame. The **upper()** method is applied to each string in the Series, converting all characters to uppercase.\n",
    "Ejemplo: \"Bogotá D.C.\" → \"BOGOTÁ D.C.\".\n",
    "Esto se hace para que la búsqueda con contains(\"BOGOTÁ\") no sea sensible a mayúsculas/minúsculas (case-insensitive).\n",
    "* Then, for each IDEAM station point, .intersects(...) checks whether it lies inside Bogotá’s polygon. The result is a Boolean Series (True if the station is within the polygon, otherwise False). By writing .iloc[0], you extract the first (and in this case, only) Polygon from that GeoSeries.\n"
   ]
  },
  {
   "cell_type": "code",
   "execution_count": null,
   "id": "9cfcbd13-b651-4150-b5c8-1a6549b6faad",
   "metadata": {},
   "outputs": [],
   "source": [
    "\n",
    "bogota_muni = gdf_mun[gdf_mun[\"MPIO_CNMBR\"].str.upper().str.contains(\"BOGOTÁ\")].copy()\n",
    "\n",
    "bta_stations_bool = gdf_est.intersects(bogota_muni.geometry.iloc[0])\n",
    "bta_stations_bool # Display the boolean dataset"
   ]
  },
  {
   "cell_type": "markdown",
   "id": "54a1b796-d113-4040-9a69-7e63ca2f57b0",
   "metadata": {},
   "source": [
    "Finally, we can subset the statios using the obtained Series, resulting in the subset canterbury_height with only those stations that intersect with Bogotá.\n",
    "\n"
   ]
  },
  {
   "cell_type": "code",
   "execution_count": null,
   "id": "3c433597-4351-4040-a5ce-1164a45654aa",
   "metadata": {},
   "outputs": [],
   "source": [
    "bogota_stations = gdf_est[bta_stations_bool]\n",
    "print(bogota_stations)"
   ]
  },
  {
   "cell_type": "markdown",
   "id": "2a568b15-eb72-4fb0-ab15-7c82a3ccad9f",
   "metadata": {},
   "source": [
    "#### Display the stations over the boundaries of Bogota"
   ]
  },
  {
   "cell_type": "code",
   "execution_count": null,
   "id": "13a63faa-85af-4b17-835a-cdb03d654d03",
   "metadata": {},
   "outputs": [],
   "source": [
    "ax = bogota_muni.plot(color=\"none\", edgecolor=\"grey\", figsize=(8, 8))\n",
    "bogota_stations.plot(ax=ax, color=\"red\", markersize=6)\n",
    "plt.title(\"IDEAM stations (projected) over Bogota\")\n",
    "plt.show()"
   ]
  },
  {
   "cell_type": "markdown",
   "id": "67fa2393",
   "metadata": {},
   "source": [
    "#### Display the results in the within the country\n"
   ]
  },
  {
   "cell_type": "code",
   "execution_count": null,
   "id": "9d16b821-f47d-4ea9-9d4e-785f0371542c",
   "metadata": {},
   "outputs": [],
   "source": [
    "# Original\n",
    "base = gdf_mun.plot(color='white', edgecolor='lightgrey')\n",
    "gdf_est.plot(ax=base, color='None', edgecolor='red');\n",
    "# Subset (intersects)\n",
    "base = gdf_mun.plot(color='white', edgecolor='lightgrey')\n",
    "bogota_muni.plot(ax=base, color='lightgrey', edgecolor='darkgrey')\n",
    "bogota_stations.plot(ax=base, color='None', edgecolor='red');\n"
   ]
  },
  {
   "cell_type": "markdown",
   "id": "3af901f0-70dc-4a68-b5c4-c503033d5d07",
   "metadata": {},
   "source": [
    "#### Other topological relations\n",
    "Other topological relations can be used for spatial subsetting. These include touches, crosses, or within. As an example of another method, we can use .disjoint to obtain all points that do not intersect with Bogotá."
   ]
  },
  {
   "cell_type": "code",
   "execution_count": null,
   "id": "3c2ecb34-e060-4df7-9035-96259814492e",
   "metadata": {},
   "outputs": [],
   "source": [
    "cumaribo_muni = gdf_mun[gdf_mun[\"MPIO_CNMBR\"].str.upper().str.contains(\"CUMARIBO\")].copy()\n",
    "\n",
    "cumaribo_muni_bool_disj = gdf_est.disjoint(cumaribo_muni.geometry.iloc[0])\n",
    "cumaribo_muni_bool_disj # Display the boolean dataset\n",
    "non_cumaribo_stations = gdf_est[cumaribo_muni_bool_disj ]"
   ]
  },
  {
   "cell_type": "markdown",
   "id": "51390842-028f-470f-ae50-f665d693a070",
   "metadata": {},
   "source": [
    "#### Plotting the results (In a fancier way\n",
    "Using fig, ax = plt.subplots(...) gives you full control over the figure and axes—especially useful when you need to:\n",
    "\n",
    "* Specify figure size or resolution (e.g., fig, ax = plt.subplots(figsize=(8, 6))).\n",
    "\n",
    "* Create multiple maps (subplots) in a single figure (for example, plt.subplots(nrows=1, ncols=2)).\n",
    "\n",
    "*  Customize titles, legends, annotations, or other elements directly via ax.set_title(), ax.legend(), ax.text(), etc.m"
   ]
  },
  {
   "cell_type": "code",
   "execution_count": null,
   "id": "a0d2d048-9882-4f66-83d8-8e2a90a5a849",
   "metadata": {},
   "outputs": [],
   "source": [
    "# matplotlib.patches makes available Matplotlib’s “patch” objects, which are simple filled shapes (e.g., rectangles, or polygons) to create a small coloured box or shape.\n",
    "import matplotlib.patches as mpatches \n",
    "\n",
    "# matplotlib.lines provides access to Matplotlib’s “line” objects. E.g. individual markers and line styles. \n",
    "# By creating a `Line2D` object with a specific marker and no connecting line (for example, a red circle), you can generate a legend entry that matches how point data are drawn on the map. \n",
    "import matplotlib.lines as mlines\n",
    "\n",
    "fig, ax = plt.subplots(figsize=(10, 10))\n",
    "\n",
    "# 1. Base layer: all municipalities\n",
    "gdf_mun.plot(\n",
    "    ax=ax,\n",
    "    color='white',\n",
    "    edgecolor='lightgrey'\n",
    ")\n",
    "\n",
    "# 2. Highlight Cumaribo municipality\n",
    "cumaribo_muni.plot(\n",
    "    ax=ax,\n",
    "    color='lightgrey',\n",
    "    edgecolor='darkgrey'\n",
    ")\n",
    "\n",
    "# 3. Plot stations not in Cumaribo\n",
    "non_cumaribo_stations.plot(\n",
    "    ax=ax,\n",
    "    color='None',\n",
    "    edgecolor='red',\n",
    "    marker='o',\n",
    "    markersize=30\n",
    ")\n",
    "\n",
    "# 4. Title\n",
    "ax.set_title(\n",
    "    \"Map of Cumaribo Municipality and Neighboring Stations\\n\",\n",
    "    fontsize=14,\n",
    "    pad=12\n",
    ")\n",
    "\n",
    "# 5. Create proxy artists for the legend\n",
    "#    - Patch for “All municipalities” (white fill, lightgrey edge)\n",
    "patch_allmun = mpatches.Patch(\n",
    "    facecolor='white',\n",
    "    edgecolor='lightgrey',\n",
    "    label='All municipalities'\n",
    ")\n",
    "\n",
    "#    - Patch for “Cumaribo” (lightgrey fill, darkgrey edge)\n",
    "patch_cumaribo = mpatches.Patch(\n",
    "    facecolor='lightgrey',\n",
    "    edgecolor='darkgrey',\n",
    "    label='Cumaribo (municipality)'\n",
    ")\n",
    "\n",
    "#    - Line2D for “Stations outside Cumaribo” (red circle marker)\n",
    "marker_stations = mlines.Line2D(\n",
    "    [], [], \n",
    "    color='red',   # edgecolor of the marker\n",
    "    marker='o',\n",
    "    linestyle='None',\n",
    "    markersize=10,\n",
    "    label='Stations outside Cumaribo'\n",
    ")\n",
    "\n",
    "# 6. Add the legend using those proxy handles\n",
    "ax.legend(\n",
    "    handles=[patch_allmun, patch_cumaribo, marker_stations],\n",
    "    loc='upper right',\n",
    "    title='Legend',\n",
    "    frameon=True\n",
    ")\n",
    "\n",
    "# 7. Annotate CRS info in the bottom-left corner\n",
    "crs_text = f\"CRS: {gdf_mun.crs.to_string()}\"\n",
    "ax.text(\n",
    "    0.01, 0.02, crs_text,\n",
    "    transform=ax.transAxes,\n",
    "    fontsize=10,\n",
    "    color='grey',\n",
    "    bbox=dict(facecolor='white', edgecolor='none', alpha=0.6, pad=2)\n",
    ")\n",
    "\n",
    "plt.show()\n"
   ]
  },
  {
   "cell_type": "markdown",
   "id": "cd155cf4-abf6-4b7d-b930-a97be887b5e2",
   "metadata": {},
   "source": [
    "#### 👩‍💻 Now it’s your turn # 1 \n",
    "\n",
    "For a variation on the previous spatial subsetting exercise, pick a **department** of your choice and:\n",
    "\n",
    "- Dissolve all its municipality polygons into a single department-level geometry.  \n",
    "- Subset the IDEAM station GeoDataFrame to keep only those points that **intersect** your department polygon.  \n",
    "\n",
    "**Deliverables**  \n",
    "1. A small table listing the station IDs and names you selected.  \n",
    "2. A map showing your dissolved department boundary (in grey) with the intersecting stations overlaid (in a contrasting colour).  \n"
   ]
  },
  {
   "cell_type": "markdown",
   "id": "1d4b8fd8",
   "metadata": {},
   "source": [
    "### 4.2.2  Topological relations"
   ]
  },
  {
   "cell_type": "markdown",
   "id": "1db55aa6-e516-4c7d-af59-60cc9af45e9e",
   "metadata": {},
   "source": [
    "Topological relations describe the spatial relationships between objects. "
   ]
  },
  {
   "cell_type": "markdown",
   "id": "024f23dc",
   "metadata": {},
   "source": [
    "*`intersects`*, *`within`*, *`touches`* etc. describe how geometries relate without measuring distance.  \n",
    "In the cell below, we identify all IDEAM stations located within a 10 km radius of Bogotá’s municipal boundary and then plots them on a map:\n"
   ]
  },
  {
   "cell_type": "code",
   "execution_count": null,
   "id": "bf5b6332",
   "metadata": {},
   "outputs": [],
   "source": [
    "#points.distance(poly.iloc[0]) < 0.2\n",
    "\n",
    "bta__10km_stations_bool = gdf_est.distance(bogota_muni.geometry.iloc[0])<10000\n",
    "bta__10km_stations_bool # Display the boolean dataset\n",
    "bta_10km_stations=gdf_est[bta__10km_stations_bool]\n",
    "\n",
    "ax = bogota_muni.plot(color=\"none\", edgecolor=\"grey\", figsize=(8, 8))\n",
    "bta_10km_stations.plot(ax=ax, color=\"red\", markersize=6)\n",
    "plt.title(\"IDEAM stations (projected) over Bogota\")\n",
    "plt.show()"
   ]
  },
  {
   "cell_type": "markdown",
   "id": "52e44d23-847e-4231-9f07-90d60626a456",
   "metadata": {},
   "source": [
    "#### 👩‍💻 Now it’s your turn # 2. \n",
    "\n",
    "Use the Bogotá polygon (`bogota_muni`) to identify all IDEAM stations that lie **outside** the city boundary but within a **20 km** buffer around it. In other words, you need to:\n",
    "\n",
    "1. Compute the distance from each station point in `gdf_est` to the Bogotá polygon.  \n",
    "2. List all the stations found and show their altitude\n",
    "3. Plot the stations in a map\n"
   ]
  },
  {
   "cell_type": "markdown",
   "id": "2a5d4a8b",
   "metadata": {},
   "source": [
    "### 4.2.3  Spatial joining\n",
    "\n",
    "A *spatial join* enriches one spatial layer with the attributes of another, based on their geometric relationships.  \n",
    "Unlike an attribute join (which matches rows by a common key), a spatial join decides the match through predicates such as **within**, **contains**, **intersects** or via a distance rule (nearest‐neighbour).\n",
    "\n",
    "Typical uses:\n",
    "\n",
    "* Assigning administrative names to point observations (point-in-polygon).  \n",
    "* Counting how many points fall inside each polygon.  \n",
    "* Adding the attributes of the *nearest* feature when layers do not overlap.  \n",
    "\n",
    "Below we demonstrate two kinds of spatial join with the Colombian datasets that are already loaded:\n",
    "\n",
    "* **Point-in-polygon** – tag each IDEAM station with its municipality.  \n",
    "* **Nearest join** – attach the nearest station ID and distance to every municipality.\n",
    "\n"
   ]
  },
  {
   "cell_type": "markdown",
   "id": "8010b5f1-2579-453a-89e4-755923db5917",
   "metadata": {},
   "source": [
    "In the following chunk, you will perform a **point-in-polygon** spatial join. Each IDEAM station point in `gdf_est` will be assigned the attributes of the municipality polygon from `gdf_mun` that contains it.\n",
    "\n",
    "The `predicate=\"within\"` argument ensures that only stations fully located inside a polygon will be matched. After the join, the resulting GeoDataFrame includes the original station attributes plus the relevant municipality fields.\n"
   ]
  },
  {
   "cell_type": "markdown",
   "id": "21642620-8e76-47c4-a36f-cb4fcb379b7a",
   "metadata": {},
   "source": [
    "#### Overlapping joins"
   ]
  },
  {
   "cell_type": "code",
   "execution_count": null,
   "id": "e6f063df-1a00-4b4d-b667-add340747495",
   "metadata": {},
   "outputs": [],
   "source": [
    "# 1. Spatial join: each station takes the attributes of the municipality it falls in\n",
    "stations_with_mun = gpd.sjoin(\n",
    "    gdf_est,                     # left: point layer\n",
    "    gdf_mun[[\"MPIO_CCDGO\", \"MPIO_CNMBR\",\"MPIO_CCDGO\", \"geometry\"]],  # right: polygon layer\n",
    "    how=\"left\",\n",
    "    predicate=\"within\"           # point inside polygon\n",
    ")\n",
    "\n",
    "# 2. Inspect the result\n",
    "stations_with_mun[[\"Codigo\", \"MPIO_CNMBR\", \"MPIO_CCDGO\"]].head()\n"
   ]
  },
  {
   "cell_type": "markdown",
   "id": "4dc2bc05-ee15-48ce-b076-037e51016d9e",
   "metadata": {},
   "source": [
    "#### Non overlapping joins\n",
    "\n",
    "Sometimes two geographic datasets do not touch but still have a strong geographic relationship.  When features do **not** overlap, use nearest joins or buffer‑based joins to bridge the gap.  \n",
    "\n",
    "\n",
    "In this example, we create a 20 km buffer around the Bogotá municipality polygon and then perform a **spatial join** to find all IDEAM stations that fall within that buffer zone.\n",
    "\n",
    "\n"
   ]
  },
  {
   "cell_type": "code",
   "execution_count": null,
   "id": "b81bfcaa-8824-4656-a136-c8b896834bfa",
   "metadata": {},
   "outputs": [],
   "source": [
    "# 1. Create a 20 km buffer around Bogotá\n",
    "bogota_muni_buffer = bogota_muni.copy()\n",
    "bogota_muni_buffer[\"geometry_20km\"] = bogota_muni_buffer.geometry.buffer(20000)\n",
    "bogota_muni_buffer = bogota_muni_buffer.set_geometry(\"geometry_20km\")\n",
    "\n",
    "# 2. Spatial join – keep only stations that intersect the buffer\n",
    "bogota_buffer_20k_stations = gpd.sjoin(\n",
    "    gdf_est,                 # left: station points\n",
    "    bogota_muni_buffer,     # right: buffer polygons\n",
    "    how='inner',            # keep only points that intersect the buffer\n",
    "    predicate='intersects'  # or 'within'\n",
    ")\n",
    "\n",
    "# 3. View result\n",
    "print(bogota_buffer_20k_stations.head())\n",
    "\n",
    "# 4. Plot Bogotá and the selected stations\n",
    "ax = bogota_muni.plot(color=\"none\", edgecolor=\"grey\", figsize=(8, 8))\n",
    "bogota_buffer_20k_stations.plot(ax=ax, color=\"blue\", markersize=30)\n",
    "plt.title(\"IDEAM stations within 20 km of Bogotá (EPSG 9377)\")\n",
    "plt.show()\n"
   ]
  },
  {
   "cell_type": "markdown",
   "id": "8b1e171c-6826-4546-b9c3-f6cb7e99a577",
   "metadata": {},
   "source": [
    "#### 3.2.6 Joining incongruent layers\n",
    "\n",
    "In many spatial analyses, we work with layers that are **congruent**: for example, municipality polygons fit perfectly within departmental boundaries, or smaller units aggregate neatly into larger ones. In such cases, operations like *spatial aggregation* are straightforward.\n",
    "\n",
    "However, in many practical cases, layers are **incongruent**:  \n",
    "- a regular grid of squares may not align perfectly with municipal boundaries;  \n",
    "- different administrative layers may not share common borders;  \n",
    "- thematic data may need to be transferred from one set of zones to another.  \n",
    "\n",
    "When performing **spatial joins between incongruent layers**, simple operations like `sjoin` can tell us whether geometries intersect.  \n",
    "But to *transfer attributes* meaningfully (for example, population counts or production totals), we need to compute the **area-weighted contribution** of each source polygon to each target polygon (overlay operation + weighting).\n",
    "\n",
    "This process is called **area-weighted interpolation**:\n",
    "- for *extensive variables* (e.g. population, production), we sum weighted parts.  \n",
    "- for *intensive variables* (e.g. population density), we compute weighted averages.\n",
    "\n",
    "In the following example, we create a synthetic **regular grid** of squares that covers the extent of Colombian municipalities, and show how to perform an area-weighted overlay to assign municipal population (or any other polygon attribute) to the grid.\n",
    "\n"
   ]
  },
  {
   "cell_type": "code",
   "execution_count": null,
   "id": "dd278900-5b82-419c-aad1-b49d7a12d24a",
   "metadata": {},
   "outputs": [],
   "source": [
    "import numpy as np\n",
    "import shapely\n",
    "\n",
    "# Create a regular grid covering Colombia\n",
    "\n",
    "# Bounds of the municipalities layer\n",
    "bounds = gdf_mun.total_bounds\n",
    "xmin, ymin, xmax, ymax = bounds\n",
    "\n",
    "# Define grid resolution (example: 100 km x 100 km grid → 100_000 m)\n",
    "res = 100000\n",
    "\n",
    "# Build grid coordinates\n",
    "cols = list(range(int(np.floor(xmin)), int(np.ceil(xmax + res)), res))\n",
    "rows = list(range(int(np.floor(ymin)), int(np.ceil(ymax + res)), res))\n",
    "rows.reverse()\n",
    "\n",
    "# Build polygons for each grid cell\n",
    "polygons = []\n",
    "for x in cols:\n",
    "    for y in rows:\n",
    "        polygons.append(\n",
    "            shapely.Polygon([\n",
    "                (x, y),\n",
    "                (x + res, y),\n",
    "                (x + res, y - res),\n",
    "                (x, y - res)\n",
    "            ])\n",
    "        )\n",
    "\n",
    "# Create grid GeoDataFrame\n",
    "grid = gpd.GeoDataFrame({'geometry': polygons}, crs=gdf_mun.crs)\n",
    "\n",
    "# Remove cells that fall outside the total extent (intersect municipalities only)\n",
    "sel = grid.intersects(shapely.box(*bounds))\n",
    "grid = grid[sel]\n",
    "\n",
    "# Add unique ID\n",
    "grid['id'] = grid.index\n",
    "\n",
    "grid.head()\n"
   ]
  },
  {
   "cell_type": "markdown",
   "id": "6df41122-f2e1-4764-ba47-c106038a52c3",
   "metadata": {},
   "source": [
    "Now we have a **regular grid of squares** covering the extent of Colombia.  \n",
    "\n",
    "Next, we will perform an **overlay** operation to split the municipality polygons according to the grid cells, and then transfer a polygon attribute (e.g. population or area) to the grid cells.\n"
   ]
  },
  {
   "cell_type": "code",
   "execution_count": null,
   "id": "d8de01e5-0c64-4232-a6da-c50e344f0d5b",
   "metadata": {},
   "outputs": [],
   "source": [
    "#  Prepare the municipalities layer: add 'area' attribute\n",
    "\n",
    "# Calculate polygon area in square metres\n",
    "gdf_mun['area_m2'] = gdf_mun.area\n",
    "\n",
    "# Example variable to transfer: let's simulate that each municipality has an attribute 'population'\n",
    "# For this example only: we'll assign a dummy population proportional to area (you can replace it with real data)\n",
    "gdf_mun['population'] = gdf_mun['area_m2'] / 1e6  # arbitrary example: 1 person per km²\n",
    "\n",
    "# View sample\n",
    "gdf_mun[['MPIO_CNMBR', 'area_m2', 'population']].head()\n"
   ]
  },
  {
   "cell_type": "code",
   "execution_count": null,
   "id": "d2d9d210-132a-4ec9-bac8-81d30f29e418",
   "metadata": {},
   "outputs": [],
   "source": [
    "#  Overlay operation: split municipalities by grid cells\n",
    "\n",
    "mun_grid = gdf_mun.overlay(grid)\n",
    "\n",
    "# Keep only needed columns\n",
    "mun_grid = mun_grid[['id', 'area_m2', 'population', 'geometry']]\n",
    "\n",
    "# Compute the area of each piece (intersection area)\n",
    "mun_grid['area_sub'] = mun_grid.area\n",
    "\n",
    "mun_grid.head()\n"
   ]
  },
  {
   "cell_type": "code",
   "execution_count": null,
   "id": "5352743a-ee5b-42e1-aeb3-10471d1ef201",
   "metadata": {},
   "outputs": [],
   "source": [
    "# Plot the result\n",
    "\n",
    "ax = mun_grid.plot(\n",
    "    column='area_sub',\n",
    "    edgecolor='black',\n",
    "    legend=True,\n",
    "    cmap='Reds',\n",
    "    figsize=(10, 10),\n",
    "    vmin=100000000,\n",
    "    vmax=10000000000\n",
    ")\n",
    "\n",
    "# Title\n",
    "plt.title(\"Effect of .overlay:\")\n",
    "plt.show()"
   ]
  },
  {
   "cell_type": "markdown",
   "id": "048d5416-7019-409e-adcc-ed2e0c244c18",
   "metadata": {},
   "source": [
    "At this stage, each grid cell contains **pieces of municipality polygons**.  \n",
    "But the *Population* field still holds the original full polygon value — we need to adjust it.\n",
    "\n",
    "Next we compute the **area proportion** and the corrected population per piece.\n"
   ]
  },
  {
   "cell_type": "code",
   "execution_count": null,
   "id": "fd2605b5-5534-4a2d-bcd6-41e499d89628",
   "metadata": {},
   "outputs": [],
   "source": [
    "# Compute area proportion and corrected population per piece\n",
    "\n",
    "mun_grid['area_prop'] = mun_grid['area_sub'] / mun_grid['area_m2']\n",
    "mun_grid['population_part'] = mun_grid['population'] * mun_grid['area_prop']\n",
    "\n",
    "mun_grid[['id', 'area_prop', 'population_part']].head()\n"
   ]
  },
  {
   "cell_type": "markdown",
   "id": "d6fbccf6-f03c-4a7d-be25-a250960fe275",
   "metadata": {},
   "source": [
    "Finally, we aggregate the contributions per grid cell:  \n",
    "**sum the population of all pieces** belonging to each grid cell.\n"
   ]
  },
  {
   "cell_type": "code",
   "execution_count": null,
   "id": "8c8006e7-0bca-489a-afb0-3308587f80b8",
   "metadata": {},
   "outputs": [],
   "source": [
    "# Aggregate to grid\n",
    "\n",
    "# Sum the partial populations per grid cell\n",
    "grid_population = mun_grid.groupby('id')['population_part'].sum().reset_index()\n",
    "\n",
    "# Join the result back to the grid\n",
    "grid = pd.merge(grid, grid_population, on='id', how='left')\n",
    "\n"
   ]
  },
  {
   "cell_type": "code",
   "execution_count": null,
   "id": "53dc6195-1f8b-4c7c-bbed-8efe49c01c2d",
   "metadata": {},
   "outputs": [],
   "source": [
    "# Plot the result\n",
    "print(grid.sort_values(by=['population_part'],ascending=False))\n",
    "ax = grid.plot(\n",
    "    column='population_part',\n",
    "    edgecolor='black',\n",
    "    legend=True,\n",
    "    cmap='Reds',\n",
    "    figsize=(10, 10),\n",
    "    vmin=5000,\n",
    "    vmax=10000\n",
    ")\n",
    "\n",
    "# Overlay the municipality boundaries\n",
    "gdf_mun.plot(ax=ax, color='none', edgecolor='grey')\n",
    "\n",
    "# Add ID labels at centroid of each grid cell\n",
    "for idx, row in grid.iterrows():\n",
    "    # Compute centroid of the polygon\n",
    "    centroid = row['geometry'].centroid\n",
    "    # Draw text label at the centroid coordinates\n",
    "    ax.text(\n",
    "        centroid.x, centroid.y, \n",
    "        str(row['id']), \n",
    "        ha='center', va='center', \n",
    "        fontsize=8, color='black'\n",
    "    )\n",
    "\n",
    "# Title\n",
    "plt.title(\"Population (area-weighted) transferred to grid cells\\nwith Grid Cell IDs\")\n",
    "plt.show()"
   ]
  },
  {
   "cell_type": "markdown",
   "id": "6c621d5d",
   "metadata": {},
   "source": [
    "## 5  Geometry operations on vector data"
   ]
  },
  {
   "cell_type": "markdown",
   "id": "e567c1cb",
   "metadata": {},
   "source": [
    "### 5.2.1  Simplification"
   ]
  },
  {
   "cell_type": "code",
   "execution_count": null,
   "id": "aa28f723",
   "metadata": {},
   "outputs": [],
   "source": [
    "# Simplify a municipality boundary with Douglas–Peucker 500 m tolerance\n",
    "poly = gdf_mun.iloc[0].geometry\n",
    "simple = poly.simplify(500)\n",
    "\n",
    "gpd.GeoSeries({'Original': poly, 'Simplified': simple}).plot(alpha=0.5, edgecolor=['black','red'])\n",
    "plt.title('Boundary simplification (500 m tolerance)')\n",
    "plt.show()\n"
   ]
  },
  {
   "cell_type": "markdown",
   "id": "736332d5",
   "metadata": {},
   "source": [
    "### 5.2.2  Centroids"
   ]
  },
  {
   "cell_type": "code",
   "execution_count": null,
   "id": "921acd6b",
   "metadata": {},
   "outputs": [],
   "source": [
    "gdf_mun['centroid'] = gdf_mun.centroid\n",
    "ax = gdf_mun.plot(color='white', edgecolor='grey')\n",
    "gdf_mun.set_geometry('centroid').plot(ax=ax, color='darkgreen', markersize=2)\n",
    "plt.title('Municipality centroids')\n",
    "plt.show()\n"
   ]
  },
  {
   "cell_type": "markdown",
   "id": "036371a0-f21c-46c1-8753-7829af3ab7c0",
   "metadata": {},
   "source": [
    "### 5.2.3 Buffers\n",
    "\n",
    "A buffer generates a polygon at a specified distance around a geometry.\n",
    "\n",
    "- For points → a circle.\n",
    "- For lines → a corridor.\n",
    "- For polygons → a wider polygon.\n",
    "\n",
    "**Typical use cases:**\n",
    "\n",
    "- Identifying all points or features within a given distance.\n",
    "- Creating impact zones around features.\n",
    "\n",
    "Example: Create a 10 km buffer around all IDEAM stations."
   ]
  },
  {
   "cell_type": "code",
   "execution_count": null,
   "id": "4c9a72fb-b486-4a32-ae0a-f8ae36d376bc",
   "metadata": {},
   "outputs": [],
   "source": [
    "# Create a 10 km buffer around each station\n",
    "gdf_est['buffer_10km'] = gdf_est.geometry.buffer(10000)\n",
    "\n",
    "# Visualise one example station buffer\n",
    "ax = gdf_mun.plot(color='none', edgecolor='lightgrey', figsize=(8, 8))\n",
    "gpd.GeoSeries(gdf_est['buffer_10km']).plot(ax=ax, facecolor='lightblue', edgecolor='blue', alpha=0.5)\n",
    "gdf_est.plot(ax=ax, color='red', markersize=20)\n",
    "\n",
    "plt.title(\"10 km Buffers around IDEAM Stations\")\n",
    "plt.show()\n"
   ]
  },
  {
   "cell_type": "markdown",
   "id": "3f433dd5-7b49-4cf6-bf62-dcdf39d6da20",
   "metadata": {},
   "source": [
    "#### 👩‍💻 Now it’s your turn # 3.\n",
    "You will now apply what you learned about **buffer creation** using a real-world vector dataset:\n",
    "\n",
    "👉 Download the **roads vector layer** from INVIAS Open Data Portal:  \n",
    "[https://inviasopendata-invias.opendata.arcgis.com/](https://inviasopendata-invias.opendata.arcgis.com/)\n",
    "\n",
    "You can download, for example, the dataset called \"**Red Vial Nacional**\" or \"**Inventario de Vías**\".\n",
    "\n",
    "\n",
    "1. Import the vector layer (e.g. `roads_invias.shp`) into your notebook using `gpd.read_file()`.  \n",
    "3. Create a **1 km buffer** around all road geometries.  \n",
    "4. Plot both the **roads** and the **buffer** on a single map (use different colours and transparency).  \n"
   ]
  },
  {
   "cell_type": "markdown",
   "id": "613d2265-0692-43fd-934e-1c285fe42cc4",
   "metadata": {},
   "source": [
    "### 5.2.4 Geometry unions\n",
    "\n",
    "A **geometry union** combines multiple geometries into a single one.\n",
    "\n",
    "- `.union_all` → performs the union over an entire GeoSeries.\n",
    "\n",
    "**Example: union of all municipalities in the Bogotá Department**\n"
   ]
  },
  {
   "cell_type": "code",
   "execution_count": null,
   "id": "1c6c673f-7809-4131-ab67-221a028aa1f8",
   "metadata": {},
   "outputs": [],
   "source": [
    "# Union of all Cundinamarca municipalities\n",
    "cundi_union = gdf_mun[gdf_mun[\"DPTO_CCDGO\"] == \"25\"].geometry.union_all()\n",
    "\n",
    "# Plot\n",
    "gpd.GeoSeries([cundi_union]).plot(color='lightgreen', edgecolor='black', figsize=(8, 8))\n",
    "\n",
    "plt.title(\"Geometry union of Cundinamarca municipalities\")\n",
    "plt.show()\n"
   ]
  },
  {
   "cell_type": "markdown",
   "id": "503d2ee0-1466-4838-92a3-fd80fa0e2d69",
   "metadata": {},
   "source": [
    "#### 👩‍💻 Now it’s your turn # 4. \n",
    "\n",
    "\n",
    "Create the **union of all municipalities** that produce Maíz.  \n",
    "Plot the result and compare it to the individual municipal geometries.\n"
   ]
  },
  {
   "cell_type": "markdown",
   "id": "ae754311-dadd-416f-8d4f-ca978094efcf",
   "metadata": {},
   "source": [
    "### 5.2.5 Affine transformations\n",
    "\n",
    "Affine transformations allow us to apply **linear transformations** to geometries:\n",
    "\n",
    "- **Translation** → moves the geometry in space.\n",
    "- **Scaling** → enlarges or shrinks the geometry.\n",
    "- **Rotation** → rotates the geometry around a point.\n",
    "\n",
    "These operations preserve **parallelism** but can change distances, angles, or shape orientation.\n",
    "\n",
    "**Affine transformations are useful for:**\n",
    "\n",
    "- Data visualisation (e.g. shifting or mirroring layers for comparison).\n",
    "- Geometry manipulation (e.g. scaling for buffers or standardisation).\n",
    "- Preparing geometries for alignment.\n",
    "\n",
    "**Example: rotate one municipality by 45 degrees**\n"
   ]
  },
  {
   "cell_type": "code",
   "execution_count": null,
   "id": "cc393c0b-95eb-498a-9db0-e85729e29792",
   "metadata": {},
   "outputs": [],
   "source": [
    "from shapely import affinity\n",
    "\n",
    "# Select one municipality polygon (Bogotá)\n",
    "bogota_geom = bogota_muni.geometry.iloc[0]\n",
    "\n",
    "# Apply a 45 degree rotation around its centroid\n",
    "bogota_rotated = affinity.rotate(bogota_geom, 45, origin='centroid')\n",
    "\n",
    "# Plot original and rotated polygon\n",
    "ax = gpd.GeoSeries([bogota_geom]).plot(color='none', edgecolor='black', figsize=(8, 8), label='Original')\n",
    "gpd.GeoSeries([bogota_rotated]).plot(ax=ax, color='none', edgecolor='red', linestyle='--', label='Rotated')\n",
    "\n",
    "plt.title(\"Affine transformation: 45° rotation of Bogotá polygon\")\n",
    "plt.show()\n"
   ]
  },
  {
   "cell_type": "markdown",
   "id": "bcf9773a-b24f-4a94-8a68-7a091cb3b429",
   "metadata": {},
   "source": [
    "#### 👩‍💻 Now it’s your turn # 5. \n",
    "\n",
    "Select a municipality of your choice and:\n",
    "\n",
    "1. Apply a **scaling** transformation to enlarge it by 1.5x in X and 0.8x in Y.\n",
    "2. Plot the original and transformed polygon for comparison.\n"
   ]
  },
  {
   "cell_type": "markdown",
   "id": "99e2ec47-60a3-4010-befa-af42c00a3412",
   "metadata": {},
   "source": [
    "### 5.2.6 Pairwise geometry-generating operations\n",
    "\n",
    "You can generate **new geometries** by computing operations between two geometries:\n",
    "\n",
    "- `.union()` → combines both geometries into one.\n",
    "- `.intersection()` → keeps only the overlapping part.\n",
    "- `.difference()` → subtracts one geometry from another.\n",
    "\n",
    "**Example: intersection between Bogotá buffer and Cundinamarca**\n",
    "\n",
    "Let’s see which part of the Bogotá 20 km buffer overlaps Cundinamarca.\n"
   ]
  },
  {
   "cell_type": "code",
   "execution_count": null,
   "id": "03c93c08-95fc-4272-b793-655c688eb81d",
   "metadata": {},
   "outputs": [],
   "source": [
    "# Cundinamarca polygon\n",
    "cundi_geom = gdf_mun[gdf_mun[\"DPTO_CCDGO\"] == \"25\"].dissolve().geometry.iloc[0]\n",
    "\n",
    "# 20 km buffer around Bogotá\n",
    "bogota_20km_buffer = bogota_geom.buffer(20000)\n",
    "\n",
    "# Intersection of buffer and Cundinamarca\n",
    "buffer_cundi_intersection = bogota_20km_buffer.intersection(cundi_geom)\n",
    "\n",
    "# Plot result\n",
    "ax = gpd.GeoSeries([bogota_20km_buffer]).plot(color='none', edgecolor='blue', figsize=(8, 8), label='Bogotá buffer')\n",
    "gpd.GeoSeries([cundi_geom]).plot(ax=ax, color='none', edgecolor='green', label='Cundinamarca')\n",
    "gpd.GeoSeries([buffer_cundi_intersection]).plot(ax=ax, color='orange', alpha=0.5, label='Intersection')\n",
    "\n",
    "plt.title(\"Intersection of Bogotá buffer with Cundinamarca\")\n",
    "plt.show()\n"
   ]
  },
  {
   "cell_type": "markdown",
   "id": "c3ea110d-b025-4625-a86e-ecb1f57deb7d",
   "metadata": {},
   "source": [
    "### 5.2.7  Subsetting and Clipping\n",
    "\n",
    "| Subsetting            | Clipping            |\n",
    "|-----------------------|---------------------|\n",
    "| Keeps **whole geometries** based on a predicate (e.g. intersects, within). | Cuts geometries to the boundary of another geometry. |\n",
    "| Results in a subset of original features. | Results in new geometries. |\n",
    "| Faster, no geometry modification. | Geometries are altered and may become smaller parts. |\n",
    "\n",
    "**Example of clipping:**  \n",
    "We clip the station buffers using the Bogotá polygon.\n"
   ]
  },
  {
   "cell_type": "code",
   "execution_count": null,
   "id": "755853ff-79c2-4719-895e-05164839f260",
   "metadata": {},
   "outputs": [],
   "source": [
    "# Clip 10 km station buffers with Bogotá boundary\n",
    "\n",
    "# First select station buffers intersecting Bogotá\n",
    "station_buffers = gdf_est.copy()\n",
    "station_buffers['buffer_5km'] = station_buffers.geometry.buffer(1000)\n",
    "\n",
    "# Clip buffers with Bogotá polygon\n",
    "station_buffers_clipped = gpd.clip(station_buffers.set_geometry('buffer_5km'), bogota_geom)\n",
    "\n",
    "# Plot\n",
    "ax = gpd.GeoSeries([bogota_geom]).plot(color='none', edgecolor='black', figsize=(8, 8), label='Bogotá')\n",
    "station_buffers_clipped.plot(ax=ax, facecolor='lightblue', edgecolor='blue', alpha=0.5)\n",
    "\n",
    "plt.title(\"Clipping station buffers to Bogotá polygon\")\n",
    "plt.show()\n"
   ]
  },
  {
   "cell_type": "markdown",
   "id": "db6c8616-db80-40b0-860d-8a7eb1a57c46",
   "metadata": {},
   "source": [
    "## 6  Project guidelines\n",
    "\n",
    "Your goal is to:\n",
    "\n",
    "1. **Select the single most suitable municipality** based on a well-structured, reproducible spatial analysis.\n",
    "2. **Within the selected municipality**, identify and map the **best local area** (polygon) where the project (crop, school, hospital, other facility) should be implemented.\n",
    "\n",
    "Your final output will therefore include **two levels of analysis**:\n",
    "\n",
    "- Level 1 — **Municipality ranking** based on multi-criteria analysis.\n",
    "- Level 2 — **Intra-municipality spatial analysis** to identify the best location within the selected municipality.\n",
    "\n",
    "\n",
    "### 6.1  Data preparation & CRS\n",
    "\n",
    "- All spatial layers must be **re-projected to EPSG 9377**.\n",
    "- Document any cleaning, pre-processing or CRS transformations you perform.\n",
    "\n",
    "\n",
    "\n",
    "### 6.2  Core analysis steps — Level 1: Municipality selection\n",
    "\n",
    "Your municipality-level analysis should:\n",
    "\n",
    "- Select an appropriate **subset of municipalities** relevant to your project (e.g. by department, region, attribute value, or spatial location).\n",
    "- Compute one or more **spatial buffers** where appropriate (e.g. buffers around roads to assess accessibility).\n",
    "- Use **topological relations** (`intersects`, `within`, `contains`, `touches`) as needed to evaluate relationships between layers.\n",
    "- Perform at least one type of **spatial join**.\n",
    "- Include at least one example of **joining incongruent layers**:\n",
    "    - For example: compute **road density per municipality** by performing an *overlay* between the road network and municipality polygons (e.g. length of roads per km² of municipality area).\n",
    "    - Other options: interpolate EVA production onto a grid and aggregate to municipalities.\n",
    "- Apply at least one **geometry operation** to refine your analysis:\n",
    "    - **Affine transformation** (rotate, scale, translate — can be used for illustration or testing).\n",
    "    - **Intersection**, **union**, or **difference** of polygons to model or visualise candidate areas.\n",
    "    - **Clipping** vs **sub-setting** should be demonstrated in at least one part of your workflow.\n",
    "\n",
    "---\n",
    "\n",
    "### 6.3  Multi-criteria analysis — Level 1\n",
    "\n",
    "You must define a set of at least **four weighted criteria** to rank the municipalities.\n",
    "\n",
    "**One of these criteria must incorporate the availability of climate monitoring infrastructure**, for example:\n",
    "\n",
    "- **Number of IDEAM stations per municipality** (from point-in-polygon spatial join — mandatory).\n",
    "- OR **Mean distance to nearest IDEAM station**.\n",
    "\n",
    "Other possible criteria include:\n",
    "\n",
    "| Possible criterion | Source / example |\n",
    "|--------------------|------------------|\n",
    "| **Road density per municipality** | Road length per km² of municipality (overlay roads ↔ municipalities) |\n",
    "| **EVA production of crop X** | EVA data (production per municipality, normalised by area or population) |\n",
    "| **Population served** | Population data or interpolated grid |\n",
    "| **Proximity to main roads** | % of municipality area within 1 km / 5 km of roads (buffer + overlay) |\n",
    "| **Risk criteria** | Presence/absence of flood zones or other risk layers (optional if used) |\n",
    "\n",
    "\n",
    "### 6.4  Core analysis steps — Level 2: Best location within selected municipality\n",
    "\n",
    "Once you have selected your **best municipality**, you will conduct a **second level of spatial analysis** to identify the **best local area within that municipality**.\n",
    "\n",
    "Your intra-municipality analysis must:\n",
    "\n",
    "- Subset your layers to the selected municipality.\n",
    "- Use **joining incongruent layers** where appropriate (e.g. road density per grid cell).\n",
    "- Perform a **fine-grained spatial analysis** using a regular grid or by dividing the municipality into zones.\n",
    "- Define at least **three local spatial criteria** to evaluate the best area for the project.\n",
    "\n",
    "Examples of local criteria:\n",
    "\n",
    "| Possible local criterion | Example |\n",
    "|--------------------------|---------|\n",
    "| **Distance to roads** | Prefer areas close to roads (1 km buffer) |\n",
    "| **Proximity to stations** | Prefer areas near climate stations |\n",
    "| **Land availability** | Avoid built-up areas, protected areas (if data available) |\n",
    "| **Crop suitability** | Based on EVA or other agronomic factors |\n",
    "\n",
    "- The output should include:\n",
    "    - The selected **best area** (polygon) where the project should be implemented (≤ 5 km²).\n",
    "\n",
    "\n",
    "### 6.5  Final output\n",
    "\n",
    "Your final output must include:\n",
    "\n",
    "- **Best municipality** selected based on Level 1 analysis.\n",
    "- **Best area** within the selected municipality.\n",
    "- One map showing key **intermediate layers** (e.g. road buffers, stations, road density).\n",
    "\n",
    "\n",
    "## 6.6  Assessment rubric (20 marks)\n",
    "\n",
    "| Criterion | Excellent **5** | Good **4** | Satisfactory **3** | Needs improvement 1–2 |\n",
    "|-----------|-----------------|------------|--------------------|-----------------------|\n",
    "| **Data preparation & CRS** | All mandatory layers plus EVA **and** ≥ 1 extra dataset re-projected and fully documented | Minor CRS issues, no impact | CRS corrected but documentation sparse | CRS incorrect or undocumented |\n",
    "| **Spatial operations** | All required operations used correctly | One minor misuse/omission | At least three operations correct | Few operations or conceptual errors |\n",
    "| **Multi-criteria analysis (municipality + intra-municipality)** | ≥ 4 criteria for Level 1 (municipality ranking), incl. one variable from joining incongruent layers and the IDEAM monitoring criterion; **AND** ≥ 3 local criteria for Level 2 (site selection within the municipality); weights justified and results reproducible | Criteria for both levels clear; minor weighting issues; results reproducible | Basic criteria applied for both levels; ranking reproducible | Lacks rationale or reproducibility in one or both levels |\n",
    "| **Visualisation & cartography** | Clear, well-styled maps; legends, labels, colour stretch; extra thematic map | Maps clear; minor style issues | Maps legible but cluttered | Maps confusing or missing |\n",
    "| **Notebook structure and documentation** | Notebook is clearly structured with informative section titles; Markdown cells explain each step; code is well commented and easy to follow | Notebook structure mostly clear; minor gaps in Markdown or comments | Basic structure present but limited explanation or commenting | Poorly documented; difficult to follow; little or no explanation of workflow |\n",
    "\n",
    "**Bonus:** Up to **+1 bonus mark** for integrating two or more additional external datasets beyond those supplied.\n",
    "\n",
    "\n",
    "\n",
    "## 6  Submission details\n",
    "\n",
    "- **Deadline:** 23:59 (Colombia time) on **june 16th 2025**.\n",
    "- **Late penalty:** **–0.5 mark per calendar day** after the deadline.\n",
    "- Push notebook to GitHub and submit the link\n",
    "\n",
    "\n"
   ]
  },
  {
   "cell_type": "markdown",
   "id": "dcb7bf21",
   "metadata": {},
   "source": [
    "---  \n",
    "© 2025 Universidad Nacional de Colombia – Facultad de Ciencias Agrarias \n",
    "Liliana Castillo Villamor\n",
    "This notebook is released under a Creative Commons Attribution 4.0 licence.  \n"
   ]
  }
 ],
 "metadata": {
  "kernelspec": {
   "display_name": "Python 3 (ipykernel)",
   "language": "python",
   "name": "python3"
  },
  "language_info": {
   "codemirror_mode": {
    "name": "ipython",
    "version": 3
   },
   "file_extension": ".py",
   "mimetype": "text/x-python",
   "name": "python",
   "nbconvert_exporter": "python",
   "pygments_lexer": "ipython3",
   "version": "3.11.9"
  }
 },
 "nbformat": 4,
 "nbformat_minor": 5
}
